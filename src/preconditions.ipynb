{
 "cells": [
  {
   "cell_type": "markdown",
   "metadata": {},
   "source": [
    "## invalidOp (state)"
   ]
  },
  {
   "cell_type": "code",
   "execution_count": null,
   "metadata": {
    "dotnet_interactive": {
     "language": "fsharp"
    }
   },
   "outputs": [],
   "source": [
    "let i = 1\n",
    "let j = 1\n",
    "if not (j < i) then invalidOp $\"expected j < i. but {j} >= {i}\""
   ]
  },
  {
   "cell_type": "markdown",
   "metadata": {},
   "source": [
    "## invalidArg"
   ]
  },
  {
   "cell_type": "code",
   "execution_count": null,
   "metadata": {
    "dotnet_interactive": {
     "language": "fsharp"
    }
   },
   "outputs": [],
   "source": [
    "let foo x =\n",
    "    if x < 0 then invalidArg (nameof x) \"should not be negative\"\n",
    "    x\n",
    "foo -1"
   ]
  },
  {
   "cell_type": "markdown",
   "metadata": {},
   "source": [
    "## nullArg"
   ]
  },
  {
   "cell_type": "code",
   "execution_count": null,
   "metadata": {
    "dotnet_interactive": {
     "language": "fsharp"
    }
   },
   "outputs": [],
   "source": [
    "let foo (x: string) = \n",
    "    if isNull x then nullArg (nameof x)\n",
    "    x\n",
    "\n",
    "foo null"
   ]
  }
 ],
 "metadata": {
  "kernelspec": {
   "display_name": "Python 3",
   "language": "python",
   "name": "python3"
  },
  "language_info": {
   "name": "python",
   "version": ""
  },
  "metadata": {
   "interpreter": {
    "hash": "81876449c4389dfb1c9b3542f0ed3550dfe9a4e9803bb36988fb1811462ccc9b"
   }
  },
  "orig_nbformat": 3
 },
 "nbformat": 4,
 "nbformat_minor": 2
}