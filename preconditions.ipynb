{
 "cells": [
  {
   "cell_type": "markdown",
   "metadata": {},
   "source": [
    "## invalidOp (state)"
   ]
  },
  {
   "cell_type": "code",
   "execution_count": null,
   "metadata": {
    "dotnet_interactive": {
     "language": "fsharp"
    }
   },
   "outputs": [
    {
     "data": {
      "application/x.notebook.error-traceback": {
       "ename": "Error",
       "evalue": "System.InvalidOperationException: expected j < i. but 1 >= 1\n   at <StartupCode$FSI_0005>.$FSI_0005.main@()",
       "traceback": []
      }
     },
     "output_type": "unknown"
    }
   ],
   "source": [
    "let i = 1\n",
    "let j = 1\n",
    "if not (j < i) then invalidOp $\"expected j < i. but {j} >= {i}\""
   ]
  },
  {
   "cell_type": "markdown",
   "metadata": {},
   "source": [
    "## invalidArg"
   ]
  },
  {
   "cell_type": "code",
   "execution_count": null,
   "metadata": {
    "dotnet_interactive": {
     "language": "fsharp"
    }
   },
   "outputs": [
    {
     "data": {
      "application/x.notebook.error-traceback": {
       "ename": "Error",
       "evalue": "System.ArgumentException: should not be negative (Parameter 'x')\n   at FSI_0007.foo(Int32 x)\n   at <StartupCode$FSI_0007>.$FSI_0007.main@()",
       "traceback": []
      }
     },
     "output_type": "unknown"
    }
   ],
   "source": [
    "let foo x =\n",
    "    if x < 0 then invalidArg (nameof x) \"should not be negative\"\n",
    "    x\n",
    "foo -1"
   ]
  },
  {
   "cell_type": "markdown",
   "metadata": {},
   "source": [
    "## nullArg"
   ]
  },
  {
   "cell_type": "code",
   "execution_count": null,
   "metadata": {
    "dotnet_interactive": {
     "language": "fsharp"
    }
   },
   "outputs": [
    {
     "data": {
      "application/x.notebook.error-traceback": {
       "ename": "Error",
       "evalue": "System.ArgumentNullException: Value cannot be null. (Parameter 'x')\n   at FSI_0011.foo(String x)\n   at <StartupCode$FSI_0011>.$FSI_0011.main@()",
       "traceback": []
      }
     },
     "output_type": "unknown"
    }
   ],
   "source": [
    "let foo (x: string) = \n",
    "    if isNull x then nullArg (nameof x)\n",
    "    x\n",
    "\n",
    "foo null"
   ]
  }
 ],
 "metadata": {
  "kernelspec": {
   "display_name": ".NET (C#)",
   "language": "C#",
   "name": ".net-csharp"
  },
  "language_info": {
   "file_extension": ".cs",
   "mimetype": "text/x-csharp",
   "name": "C#",
   "pygments_lexer": "csharp",
   "version": "9.0"
  },
  "orig_nbformat": 2
 },
 "nbformat": 4,
 "nbformat_minor": 2
}