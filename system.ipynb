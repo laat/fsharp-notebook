{
  "cells": [
    {
      "cell_type": "code",
      "execution_count": null,
      "metadata": {
        "dotnet_interactive": {
          "language": "fsharp"
        }
      },
      "outputs": [],
      "source": [
        "#load\"system.fsx\"\n",
        "open System"
      ]
    },
    {
      "cell_type": "markdown",
      "metadata": {},
      "source": [
        "## Option"
      ]
    },
    {
      "cell_type": "code",
      "execution_count": null,
      "metadata": {
        "dotnet_interactive": {
          "language": "fsharp"
        }
      },
      "outputs": [],
      "source": [
        "Nullable(10)\n",
        "|> Option.ofNullable"
      ]
    },
    {
      "cell_type": "code",
      "execution_count": null,
      "metadata": {
        "dotnet_interactive": {
          "language": "fsharp"
        }
      },
      "outputs": [],
      "source": [
        "Nullable<int>()\n",
        "|> Option.ofNullable \n",
        "|> Option.isSome"
      ]
    },
    {
      "cell_type": "code",
      "execution_count": null,
      "metadata": {
        "dotnet_interactive": {
          "language": "fsharp"
        }
      },
      "outputs": [],
      "source": [
        "Ok \"hello\"\n",
        "|> Option.ofResult"
      ]
    },
    {
      "cell_type": "code",
      "execution_count": null,
      "metadata": {
        "dotnet_interactive": {
          "language": "fsharp"
        }
      },
      "outputs": [],
      "source": [
        "Error \"failed\" :> Result<'a, 'b>\n",
        "|> Option.ofResult\n",
        "|> Option.isSome"
      ]
    },
    {
      "cell_type": "markdown",
      "metadata": {},
      "source": [
        "## Result"
      ]
    },
    {
      "cell_type": "code",
      "execution_count": null,
      "metadata": {
        "dotnet_interactive": {
          "language": "fsharp"
        }
      },
      "outputs": [],
      "source": [
        "Some 10\n",
        "|> Result.ofOption \"wat\""
      ]
    },
    {
      "cell_type": "code",
      "execution_count": null,
      "metadata": {
        "dotnet_interactive": {
          "language": "fsharp"
        }
      },
      "outputs": [],
      "source": [
        "None :> Option<int>\n",
        "|> Result.ofOption \"wat\""
      ]
    },
    {
      "cell_type": "code",
      "execution_count": null,
      "metadata": {
        "dotnet_interactive": {
          "language": "fsharp"
        }
      },
      "outputs": [],
      "source": [
        "[10; 11; 12;]\n",
        "|> Result.traverse (fun x -> if x < 12 then Ok x else Error \"nope\")"
      ]
    },
    {
      "cell_type": "code",
      "execution_count": null,
      "metadata": {
        "dotnet_interactive": {
          "language": "fsharp"
        }
      },
      "outputs": [],
      "source": [
        "[10; 11; 12;]\n",
        "|> Result.traverse (fun x -> if x < 13 then Ok x else Error \"nope\")"
      ]
    },
    {
      "cell_type": "markdown",
      "metadata": {},
      "source": [
        "## String"
      ]
    },
    {
      "cell_type": "code",
      "execution_count": null,
      "metadata": {
        "dotnet_interactive": {
          "language": "fsharp"
        }
      },
      "outputs": [],
      "source": [
        "\"\"\n",
        "|> String.isEmpty"
      ]
    },
    {
      "cell_type": "code",
      "execution_count": null,
      "metadata": {
        "dotnet_interactive": {
          "language": "fsharp"
        }
      },
      "outputs": [],
      "source": [
        "null\n",
        "|> String.isNullOrEmpty"
      ]
    },
    {
      "cell_type": "code",
      "execution_count": null,
      "metadata": {
        "dotnet_interactive": {
          "language": "fsharp"
        }
      },
      "outputs": [],
      "source": [
        "\" \"\n",
        "|> String.isNullOrWhiteSpace"
      ]
    },
    {
      "cell_type": "code",
      "execution_count": null,
      "metadata": {
        "dotnet_interactive": {
          "language": "fsharp"
        }
      },
      "outputs": [],
      "source": [
        "[|\"a\"; \"b\"|]\n",
        "|> String.join \",\""
      ]
    },
    {
      "cell_type": "code",
      "execution_count": null,
      "metadata": {
        "dotnet_interactive": {
          "language": "fsharp"
        }
      },
      "outputs": [],
      "source": [
        "\"fooo\"\n",
        "|> String.replace \"o\" \"i\""
      ]
    },
    {
      "cell_type": "code",
      "execution_count": null,
      "metadata": {
        "dotnet_interactive": {
          "language": "fsharp"
        }
      },
      "outputs": [],
      "source": [
        "type Foo = Foo = 0 | Bar = 1\n",
        "\n",
        "[\"Foo\"; \"foo\"; \"baz\"]\n",
        "|> List.map String.toEnum<Foo>\n"
      ]
    },
    {
      "cell_type": "code",
      "execution_count": null,
      "metadata": {
        "dotnet_interactive": {
          "language": "fsharp"
        }
      },
      "outputs": [],
      "source": [
        "type Foo = Foo = 0 | Bar = 1\n",
        "\n",
        "[\"Foo\"; \"foo\"; \"baz\"]\n",
        "|> List.map String.toEnumIgnoreCase<Foo>\n"
      ]
    },
    {
      "cell_type": "code",
      "execution_count": null,
      "metadata": {
        "dotnet_interactive": {
          "language": "fsharp"
        }
      },
      "outputs": [],
      "source": [
        "type Foo = Foo | Bar \n",
        "\n",
        "[\"Foo\"; \"foo\"; \"baz\"]\n",
        "|> List.map String.toUnion<Foo>"
      ]
    },
    {
      "cell_type": "code",
      "execution_count": null,
      "metadata": {
        "dotnet_interactive": {
          "language": "fsharp"
        }
      },
      "outputs": [],
      "source": [
        "type Foo = Foo | Bar \n",
        "\n",
        "[\"fOo\"; \"bar\"; \"baz\"]\n",
        "|> List.map String.toUnionIgnoreCase<Foo>"
      ]
    },
    {
      "cell_type": "markdown",
      "metadata": {},
      "source": [
        "## Async"
      ]
    },
    {
      "cell_type": "code",
      "execution_count": null,
      "metadata": {
        "dotnet_interactive": {
          "language": "fsharp"
        }
      },
      "outputs": [],
      "source": [
        "async { return 1 }\n",
        "|> Async.map (fun x -> x + 1)\n",
        "|> Async.RunSynchronously"
      ]
    },
    {
      "cell_type": "code",
      "execution_count": null,
      "metadata": {
        "dotnet_interactive": {
          "language": "fsharp"
        }
      },
      "outputs": [],
      "source": [
        "async { return 1 }\n",
        "|> Async.bind (fun x -> async { return x + 1 })\n",
        "|> Async.RunSynchronously"
      ]
    },
    {
      "cell_type": "code",
      "execution_count": null,
      "metadata": {
        "dotnet_interactive": {
          "language": "fsharp"
        }
      },
      "outputs": [],
      "source": [
        "[ async { return 1 }; async { return 1 } ]\n",
        "|> Seq.mapAsync (fun x -> x + 1)\n",
        "|> Async.Parallel\n",
        "|> Async.RunSynchronously"
      ]
    },
    {
      "cell_type": "code",
      "execution_count": null,
      "metadata": {
        "dotnet_interactive": {
          "language": "fsharp"
        }
      },
      "outputs": [],
      "source": [
        "\n",
        "[ async { return 1 }; async { return 1 } ]\n",
        "|> Seq.iterAsync (fun x -> printfn \"log %A\" x)\n",
        "|> Async.RunSynchronously"
      ]
    },
    {
      "cell_type": "code",
      "execution_count": null,
      "metadata": {
        "dotnet_interactive": {
          "language": "fsharp"
        }
      },
      "outputs": [],
      "source": [
        "async {\n",
        "    try \n",
        "        return (1/0)\n",
        "    with exn -> \n",
        "        return Exception.reraise exn\n",
        "} \n",
        "// |> Async.RunSynchronously"
      ]
    }
  ],
  "metadata": {
    "kernelspec": {
      "display_name": ".NET (C#)",
      "language": "C#",
      "name": ".net-csharp"
    },
    "language_info": {
      "file_extension": ".cs",
      "mimetype": "text/x-csharp",
      "name": "C#",
      "pygments_lexer": "csharp",
      "version": "9.0"
    }
  },
  "nbformat": 4,
  "nbformat_minor": 4
}