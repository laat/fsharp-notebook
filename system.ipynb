{
  "cells": [
    {
      "cell_type": "code",
      "execution_count": null,
      "metadata": {
        "dotnet_interactive": {
          "language": "fsharp"
        }
      },
      "outputs": [],
      "source": [
        "#load\"system.fsx\"\n",
        "open System"
      ]
    },
    {
      "cell_type": "markdown",
      "metadata": {},
      "source": [
        "## Option"
      ]
    },
    {
      "cell_type": "code",
      "execution_count": null,
      "metadata": {
        "dotnet_interactive": {
          "language": "fsharp"
        }
      },
      "outputs": [
        {
          "data": {
            "text/html": "<table><thead><tr><th>Value</th></tr></thead><tbody><tr><td><div class=\"dni-plaintext\">10</div></td></tr></tbody></table>"
          },
          "output_type": "unknown"
        }
      ],
      "source": [
        "Nullable(10)\n",
        "|> Option.ofNullable"
      ]
    },
    {
      "cell_type": "code",
      "execution_count": null,
      "metadata": {
        "dotnet_interactive": {
          "language": "fsharp"
        }
      },
      "outputs": [
        {
          "data": {
            "text/html": "<div class=\"dni-plaintext\">False</div>"
          },
          "output_type": "unknown"
        }
      ],
      "source": [
        "Nullable<int>()\n",
        "|> Option.ofNullable \n",
        "|> Option.isSome"
      ]
    },
    {
      "cell_type": "code",
      "execution_count": null,
      "metadata": {
        "dotnet_interactive": {
          "language": "fsharp"
        }
      },
      "outputs": [
        {
          "data": {
            "text/html": "<table><thead><tr><th>Value</th></tr></thead><tbody><tr><td><div class=\"dni-plaintext\">hello</div></td></tr></tbody></table>"
          },
          "output_type": "unknown"
        }
      ],
      "source": [
        "Ok \"hello\"\n",
        "|> Option.ofResult"
      ]
    },
    {
      "cell_type": "code",
      "execution_count": null,
      "metadata": {
        "dotnet_interactive": {
          "language": "fsharp"
        }
      },
      "outputs": [
        {
          "data": {
            "text/html": "<div class=\"dni-plaintext\">False</div>"
          },
          "output_type": "unknown"
        }
      ],
      "source": [
        "Error \"failed\" :> Result<'a, 'b>\n",
        "|> Option.ofResult\n",
        "|> Option.isSome"
      ]
    },
    {
      "cell_type": "markdown",
      "metadata": {},
      "source": [
        "## Result"
      ]
    },
    {
      "cell_type": "code",
      "execution_count": null,
      "metadata": {
        "dotnet_interactive": {
          "language": "fsharp"
        }
      },
      "outputs": [
        {
          "data": {
            "text/html": "<table><thead><tr><th>ResultValue</th><th>ErrorValue</th></tr></thead><tbody><tr><td><div class=\"dni-plaintext\">10</div></td><td><div class=\"dni-plaintext\">&lt;null&gt;</div></td></tr></tbody></table>"
          },
          "output_type": "unknown"
        }
      ],
      "source": [
        "Some 10\n",
        "|> Result.ofOption \"wat\""
      ]
    },
    {
      "cell_type": "code",
      "execution_count": null,
      "metadata": {
        "dotnet_interactive": {
          "language": "fsharp"
        }
      },
      "outputs": [
        {
          "data": {
            "text/html": "<table><thead><tr><th>ResultValue</th><th>ErrorValue</th></tr></thead><tbody><tr><td><div class=\"dni-plaintext\">0</div></td><td><div class=\"dni-plaintext\">wat</div></td></tr></tbody></table>"
          },
          "output_type": "unknown"
        }
      ],
      "source": [
        "None :> Option<int>\n",
        "|> Result.ofOption \"wat\""
      ]
    },
    {
      "cell_type": "code",
      "execution_count": null,
      "metadata": {
        "dotnet_interactive": {
          "language": "fsharp"
        }
      },
      "outputs": [
        {
          "data": {
            "text/html": "<table><thead><tr><th>ResultValue</th><th>ErrorValue</th></tr></thead><tbody><tr><td><div class=\"dni-plaintext\">&lt;null&gt;</div></td><td><div class=\"dni-plaintext\">nope</div></td></tr></tbody></table>"
          },
          "output_type": "unknown"
        }
      ],
      "source": [
        "[10; 11; 12;]\n",
        "|> Result.traverse (fun x -> if x < 12 then Ok x else Error \"nope\")"
      ]
    },
    {
      "cell_type": "code",
      "execution_count": null,
      "metadata": {
        "dotnet_interactive": {
          "language": "fsharp"
        }
      },
      "outputs": [
        {
          "data": {
            "text/html": "<table><thead><tr><th>ResultValue</th><th>ErrorValue</th></tr></thead><tbody><tr><td><div class=\"dni-plaintext\">[ 10, 11, 12 ]</div></td><td><div class=\"dni-plaintext\">&lt;null&gt;</div></td></tr></tbody></table>"
          },
          "output_type": "unknown"
        }
      ],
      "source": [
        "[10; 11; 12;]\n",
        "|> Result.traverse (fun x -> if x < 13 then Ok x else Error \"nope\")"
      ]
    },
    {
      "cell_type": "markdown",
      "metadata": {},
      "source": [
        "## String"
      ]
    },
    {
      "cell_type": "code",
      "execution_count": null,
      "metadata": {
        "dotnet_interactive": {
          "language": "fsharp"
        }
      },
      "outputs": [
        {
          "data": {
            "text/html": "<div class=\"dni-plaintext\">True</div>"
          },
          "output_type": "unknown"
        }
      ],
      "source": [
        "\"\"\n",
        "|> String.isEmpty"
      ]
    },
    {
      "cell_type": "code",
      "execution_count": null,
      "metadata": {
        "dotnet_interactive": {
          "language": "fsharp"
        }
      },
      "outputs": [
        {
          "data": {
            "text/html": "<div class=\"dni-plaintext\">True</div>"
          },
          "output_type": "unknown"
        }
      ],
      "source": [
        "null\n",
        "|> String.isNullOrEmpty"
      ]
    },
    {
      "cell_type": "code",
      "execution_count": null,
      "metadata": {
        "dotnet_interactive": {
          "language": "fsharp"
        }
      },
      "outputs": [
        {
          "data": {
            "text/html": "<div class=\"dni-plaintext\">True</div>"
          },
          "output_type": "unknown"
        }
      ],
      "source": [
        "\" \"\n",
        "|> String.isNullOrWhiteSpace"
      ]
    },
    {
      "cell_type": "code",
      "execution_count": null,
      "metadata": {
        "dotnet_interactive": {
          "language": "fsharp"
        }
      },
      "outputs": [
        {
          "data": {
            "text/plain": "a,b"
          },
          "output_type": "unknown"
        }
      ],
      "source": [
        "[|\"a\"; \"b\"|]\n",
        "|> String.join \",\""
      ]
    },
    {
      "cell_type": "code",
      "execution_count": null,
      "metadata": {
        "dotnet_interactive": {
          "language": "fsharp"
        }
      },
      "outputs": [
        {
          "data": {
            "text/plain": "fiii"
          },
          "output_type": "unknown"
        }
      ],
      "source": [
        "\"fooo\"\n",
        "|> String.replace \"o\" \"i\""
      ]
    },
    {
      "cell_type": "code",
      "execution_count": null,
      "metadata": {
        "dotnet_interactive": {
          "language": "fsharp"
        }
      },
      "outputs": [
        {
          "data": {
            "text/html": "<table><thead><tr><th><i>index</i></th><th>Value</th><th>value</th></tr></thead><tbody><tr><td>0</td><td><span>Foo</span></td><td></td></tr><tr><td>1</td><td></td><td><div class=\"dni-plaintext\">&lt;null&gt;</div></td></tr><tr><td>2</td><td></td><td><div class=\"dni-plaintext\">&lt;null&gt;</div></td></tr></tbody></table>"
          },
          "output_type": "unknown"
        }
      ],
      "source": [
        "type Foo = Foo = 0 | Bar = 1\n",
        "\n",
        "[\"Foo\"; \"foo\"; \"baz\"]\n",
        "|> List.map String.toEnum<Foo>\n"
      ]
    },
    {
      "cell_type": "code",
      "execution_count": null,
      "metadata": {
        "dotnet_interactive": {
          "language": "fsharp"
        }
      },
      "outputs": [
        {
          "data": {
            "text/html": "<table><thead><tr><th><i>index</i></th><th>Value</th><th>value</th></tr></thead><tbody><tr><td>0</td><td><span>Foo</span></td><td></td></tr><tr><td>1</td><td><span>Foo</span></td><td></td></tr><tr><td>2</td><td></td><td><div class=\"dni-plaintext\">&lt;null&gt;</div></td></tr></tbody></table>"
          },
          "output_type": "unknown"
        }
      ],
      "source": [
        "type Foo = Foo = 0 | Bar = 1\n",
        "\n",
        "[\"Foo\"; \"foo\"; \"baz\"]\n",
        "|> List.map String.toEnumIgnoreCase<Foo>\n"
      ]
    },
    {
      "cell_type": "code",
      "execution_count": null,
      "metadata": {
        "dotnet_interactive": {
          "language": "fsharp"
        }
      },
      "outputs": [
        {
          "data": {
            "text/html": "<table><thead><tr><th><i>index</i></th><th>Value</th><th>value</th></tr></thead><tbody><tr><td>0</td><td><div class=\"dni-plaintext\">Foo</div></td><td></td></tr><tr><td>1</td><td></td><td><div class=\"dni-plaintext\">&lt;null&gt;</div></td></tr><tr><td>2</td><td></td><td><div class=\"dni-plaintext\">&lt;null&gt;</div></td></tr></tbody></table>"
          },
          "output_type": "unknown"
        }
      ],
      "source": [
        "type Foo = Foo | Bar \n",
        "\n",
        "[\"Foo\"; \"foo\"; \"baz\"]\n",
        "|> List.map String.toUnion<Foo>"
      ]
    },
    {
      "cell_type": "code",
      "execution_count": null,
      "metadata": {
        "dotnet_interactive": {
          "language": "fsharp"
        }
      },
      "outputs": [
        {
          "data": {
            "text/html": "<table><thead><tr><th><i>index</i></th><th>Value</th><th>value</th></tr></thead><tbody><tr><td>0</td><td><div class=\"dni-plaintext\">Foo</div></td><td></td></tr><tr><td>1</td><td><div class=\"dni-plaintext\">Bar</div></td><td></td></tr><tr><td>2</td><td></td><td><div class=\"dni-plaintext\">&lt;null&gt;</div></td></tr></tbody></table>"
          },
          "output_type": "unknown"
        }
      ],
      "source": [
        "type Foo = Foo | Bar \n",
        "\n",
        "[\"fOo\"; \"bar\"; \"baz\"]\n",
        "|> List.map String.toUnionIgnoreCase<Foo>"
      ]
    },
    {
      "cell_type": "markdown",
      "metadata": {},
      "source": [
        "## Async"
      ]
    },
    {
      "cell_type": "code",
      "execution_count": null,
      "metadata": {
        "dotnet_interactive": {
          "language": "fsharp"
        }
      },
      "outputs": [
        {
          "data": {
            "text/html": "<div class=\"dni-plaintext\">2</div>"
          },
          "output_type": "unknown"
        }
      ],
      "source": [
        "async { return 1 }\n",
        "|> Async.map (fun x -> x + 1)\n",
        "|> Async.RunSynchronously"
      ]
    },
    {
      "cell_type": "code",
      "execution_count": null,
      "metadata": {
        "dotnet_interactive": {
          "language": "fsharp"
        }
      },
      "outputs": [
        {
          "data": {
            "text/html": "<div class=\"dni-plaintext\">2</div>"
          },
          "output_type": "unknown"
        }
      ],
      "source": [
        "async { return 1 }\n",
        "|> Async.bind (fun x -> async { return x + 1 })\n",
        "|> Async.RunSynchronously"
      ]
    },
    {
      "cell_type": "code",
      "execution_count": null,
      "metadata": {
        "dotnet_interactive": {
          "language": "fsharp"
        }
      },
      "outputs": [
        {
          "data": {
            "text/html": "<table><thead><tr><th><i>index</i></th><th>value</th></tr></thead><tbody><tr><td>0</td><td><div class=\"dni-plaintext\">2</div></td></tr><tr><td>1</td><td><div class=\"dni-plaintext\">2</div></td></tr></tbody></table>"
          },
          "output_type": "unknown"
        }
      ],
      "source": [
        "[ async { return 1 }; async { return 1 } ]\n",
        "|> Seq.mapAsync (fun x -> x + 1)\n",
        "|> Async.Parallel\n",
        "|> Async.RunSynchronously"
      ]
    },
    {
      "cell_type": "code",
      "execution_count": null,
      "metadata": {
        "dotnet_interactive": {
          "language": "fsharp"
        }
      },
      "outputs": [
        {
          "data": {
            "text/plain": "log "
          },
          "output_type": "unknown"
        },
        {
          "data": {
            "text/plain": "1"
          },
          "output_type": "unknown"
        },
        {
          "data": {
            "text/plain": "\n"
          },
          "output_type": "unknown"
        },
        {
          "data": {
            "text/plain": "log "
          },
          "output_type": "unknown"
        },
        {
          "data": {
            "text/plain": "1"
          },
          "output_type": "unknown"
        },
        {
          "data": {
            "text/plain": "\n"
          },
          "output_type": "unknown"
        }
      ],
      "source": [
        "\n",
        "[ async { return 1 }; async { return 1 } ]\n",
        "|> Seq.iterAsync (fun x -> printfn \"log %A\" x)\n",
        "|> Async.RunSynchronously"
      ]
    },
    {
      "cell_type": "code",
      "execution_count": null,
      "metadata": {
        "dotnet_interactive": {
          "language": "fsharp"
        }
      },
      "outputs": [
        {
          "data": {
            "text/html": "<div class=\"dni-plaintext\">Microsoft.FSharp.Control.FSharpAsync`1[System.Int32]</div>"
          },
          "output_type": "unknown"
        }
      ],
      "source": [
        "async {\n",
        "    try \n",
        "        return (1/0)\n",
        "    with exn -> \n",
        "        return Exception.reraise exn\n",
        "} \n",
        "// |> Async.RunSynchronously"
      ]
    },
    {
      "cell_type": "code",
      "execution_count": null,
      "metadata": {
        "dotnet_interactive": {
          "language": "fsharp"
        }
      },
      "outputs": [],
      "source": []
    }
  ],
  "metadata": {
    "kernelspec": {
      "display_name": ".NET (F#)",
      "name": ".net-fsharp"
    },
    "language_info": {
      "name": "F#",
      "version": ""
    },
    "orig_nbformat": 3
  },
  "nbformat": 4,
  "nbformat_minor": 4
}